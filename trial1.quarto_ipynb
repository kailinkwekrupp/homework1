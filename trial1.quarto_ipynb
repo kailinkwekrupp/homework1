{
  "cells": [
    {
      "cell_type": "markdown",
      "metadata": {},
      "source": [
        "---\n",
        "title: \"Hello, Quarto\"\n",
        "format: html\n",
        "---\n",
        "\n",
        "title: \"Your Title\"\n",
        "format: \n",
        "    pdf:\n",
        "        documentclass: article \n",
        "        number-sections: true\n",
        "        margin-top: 1in\n",
        "        margin-bottom: 1in\n",
        "        margin-left: 1in\n",
        "        margin-right: 1in\n",
        "        linestretch:  1.5\n",
        "        fontsize: 11pt\n",
        "    html: default \n",
        "author: \"author\"        \n",
        "bibliography: references.bib\n",
        "\n",
        "## Markdown\n",
        "\n",
        "Markdown is an easy to read and write text format:\n",
        "\n",
        "- It's _plain text_ so works well with version control\n",
        "- It can be **rendered** into HTML, PDF, and more\n",
        "- Learn more at: <https://quarto.org/docs/authoring/>\n",
        "\n",
        "## Code Cell\n",
        "\n",
        "Here is a Python code cell:\n"
      ],
      "id": "63a6f28a"
    },
    {
      "cell_type": "code",
      "metadata": {},
      "source": [
        "import os\n",
        "os.cpu_count()"
      ],
      "id": "ddfa3692",
      "execution_count": null,
      "outputs": []
    },
    {
      "cell_type": "markdown",
      "metadata": {},
      "source": [
        "## Equation\n",
        "\n",
        "Use LaTeX to write equations:\n",
        "\n",
        "$$\n",
        "\\chi' = \\sum_{i=1}^n k_i s_i^2\n",
        "$$"
      ],
      "id": "87a3a494"
    }
  ],
  "metadata": {
    "kernelspec": {
      "display_name": "Python 3",
      "language": "python",
      "name": "python3"
    }
  },
  "nbformat": 4,
  "nbformat_minor": 5
}